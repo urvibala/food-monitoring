{
 "cells": [
  {
   "cell_type": "code",
   "execution_count": 1,
   "id": "78bcb79d-1253-4251-93df-d2b302c895cb",
   "metadata": {},
   "outputs": [],
   "source": [
    "import pandas as pd\n",
    "import numpy as np\n",
    "from sklearn.model_selection import train_test_split\n",
    "from sklearn.metrics import mean_squared_error\n",
    "from sklearn.ensemble import GradientBoostingRegressor"
   ]
  },
  {
   "cell_type": "code",
   "execution_count": 2,
   "id": "452a81e0-e62d-4eb1-944c-44dcc2660575",
   "metadata": {},
   "outputs": [],
   "source": [
    "# define dataset\n",
    "df = pd.read_csv('final3.csv')"
   ]
  },
  {
   "cell_type": "code",
   "execution_count": 3,
   "id": "1de10d0d-dcbd-4dfd-8837-d11af4c86726",
   "metadata": {},
   "outputs": [
    {
     "data": {
      "text/html": [
       "<div>\n",
       "<style scoped>\n",
       "    .dataframe tbody tr th:only-of-type {\n",
       "        vertical-align: middle;\n",
       "    }\n",
       "\n",
       "    .dataframe tbody tr th {\n",
       "        vertical-align: top;\n",
       "    }\n",
       "\n",
       "    .dataframe thead th {\n",
       "        text-align: right;\n",
       "    }\n",
       "</style>\n",
       "<table border=\"1\" class=\"dataframe\">\n",
       "  <thead>\n",
       "    <tr style=\"text-align: right;\">\n",
       "      <th></th>\n",
       "      <th>temperature</th>\n",
       "      <th>humidity</th>\n",
       "      <th>methane_concentration</th>\n",
       "      <th>remaining_lifespan</th>\n",
       "    </tr>\n",
       "  </thead>\n",
       "  <tbody>\n",
       "    <tr>\n",
       "      <th>0</th>\n",
       "      <td>32.4</td>\n",
       "      <td>74.0</td>\n",
       "      <td>0.11213</td>\n",
       "      <td>2.944</td>\n",
       "    </tr>\n",
       "    <tr>\n",
       "      <th>1</th>\n",
       "      <td>32.5</td>\n",
       "      <td>85.5</td>\n",
       "      <td>0.11214</td>\n",
       "      <td>3.419</td>\n",
       "    </tr>\n",
       "    <tr>\n",
       "      <th>2</th>\n",
       "      <td>32.5</td>\n",
       "      <td>84.8</td>\n",
       "      <td>0.11320</td>\n",
       "      <td>3.359</td>\n",
       "    </tr>\n",
       "    <tr>\n",
       "      <th>3</th>\n",
       "      <td>32.5</td>\n",
       "      <td>79.2</td>\n",
       "      <td>0.11201</td>\n",
       "      <td>3.170</td>\n",
       "    </tr>\n",
       "    <tr>\n",
       "      <th>4</th>\n",
       "      <td>32.5</td>\n",
       "      <td>78.5</td>\n",
       "      <td>0.11675</td>\n",
       "      <td>3.015</td>\n",
       "    </tr>\n",
       "  </tbody>\n",
       "</table>\n",
       "</div>"
      ],
      "text/plain": [
       "   temperature  humidity  methane_concentration  remaining_lifespan\n",
       "0         32.4      74.0                0.11213               2.944\n",
       "1         32.5      85.5                0.11214               3.419\n",
       "2         32.5      84.8                0.11320               3.359\n",
       "3         32.5      79.2                0.11201               3.170\n",
       "4         32.5      78.5                0.11675               3.015"
      ]
     },
     "execution_count": 3,
     "metadata": {},
     "output_type": "execute_result"
    }
   ],
   "source": [
    "df.head()"
   ]
  },
  {
   "cell_type": "code",
   "execution_count": 4,
   "id": "d0de898e-e72e-44bb-951a-4b11e2db3d32",
   "metadata": {},
   "outputs": [],
   "source": [
    "X = df.drop(['remaining_lifespan'],axis=1)\n",
    "y = df['remaining_lifespan']\n",
    "X_train, X_test, y_train, y_test = train_test_split(X, y, test_size = 0.2, random_state=42)"
   ]
  },
  {
   "cell_type": "code",
   "execution_count": 5,
   "id": "b8472533-ba97-4604-a607-f14c7443e3cd",
   "metadata": {},
   "outputs": [
    {
     "name": "stdout",
     "output_type": "stream",
     "text": [
      "Mean Squared Error: 0.03320096757822871\n"
     ]
    }
   ],
   "source": [
    "model = GradientBoostingRegressor()\n",
    "model.fit(X_train, y_train)\n",
    "y_pred = model.predict(X_test)\n",
    "mse = mean_squared_error(y_test, y_pred)\n",
    "print(f\"Mean Squared Error: {mse}\")"
   ]
  },
  {
   "cell_type": "code",
   "execution_count": 6,
   "id": "0c514e31-1360-4bfa-8bc1-5287b0a5066e",
   "metadata": {},
   "outputs": [],
   "source": [
    "import pickle\n",
    "pickle.dump(model,open('appmodel.pkl','wb'))"
   ]
  },
  {
   "cell_type": "code",
   "execution_count": null,
   "id": "3dd8de13-9f5a-4070-b946-a6f3fc770ba2",
   "metadata": {},
   "outputs": [],
   "source": []
  }
 ],
 "metadata": {
  "kernelspec": {
   "display_name": "Python 3 (ipykernel)",
   "language": "python",
   "name": "python3"
  },
  "language_info": {
   "codemirror_mode": {
    "name": "ipython",
    "version": 3
   },
   "file_extension": ".py",
   "mimetype": "text/x-python",
   "name": "python",
   "nbconvert_exporter": "python",
   "pygments_lexer": "ipython3",
   "version": "3.10.12"
  }
 },
 "nbformat": 4,
 "nbformat_minor": 5
}
